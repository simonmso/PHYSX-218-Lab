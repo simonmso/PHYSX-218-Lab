{
 "cells": [
  {
   "cell_type": "markdown",
   "metadata": {},
   "source": [
    "# Mechanical Equivalent of Heat - Simon Silverstein\n",
    "## Measurements\n",
    "1. Aluminum Cylinder: 202.9g ± 0.1g\n",
    "2. Cylinder Diameter: 48.0mm ± 0.05mm\n",
    "3. Uncertainty in T-final: ± 0.3 degC (This was carried over from the last lab, also involving a thermistor)\n",
    "\n",
    "## Results and Analysis\n",
    "4. Mechanical equivalent of heat: 4.60 ± 0.157 J/cal (see code below)\n",
    "5. This result does not agree with the accepted value of 4.1860 J/cal, as this falls out of the range of uncertainty\n",
    "\n",
    "## Concepts\n",
    "6. A steel cylinder would have takem less turns, as a lower specific heat means it takes less work to change its temperature. "
   ]
  },
  {
   "cell_type": "code",
   "execution_count": 3,
   "metadata": {},
   "outputs": [
    {
     "name": "stdout",
     "output_type": "stream",
     "text": [
      "4.60 ± 0.157 J/cal\n"
     ]
    }
   ],
   "source": [
    "import error_rules as er\n",
    "\n",
    "def Work(M,N,r):\n",
    "    return 2 * 3.14 * M * 9.81 * N * r\n",
    "\n",
    "def Q(m, c, t1, t2):\n",
    "    return m*c*(t1-t2)\n",
    "\n",
    "def J(M, N, r, m, c, t1, t2):\n",
    "    return Work(M,N,r) / Q(m,c,t1,t2)\n",
    "\n",
    "M = 6.355  # kgS\n",
    "N = 348  # turns\n",
    "r = 0.024  # m\n",
    "m = 0.2029  # kg\n",
    "c = 214  # cal/kg*K\n",
    "t1 = 29  # C\n",
    "t2 = 12.63  # C\n",
    "\n",
    "\n",
    "eqiv = J(M, N, r, m, c, t1, t2)\n",
    "\n",
    "unc = er.rule_4(Q=eqiv, values=[M, N, r, m, (t1 - t2)], uncertainties=[0.001, 10, 0.00005, 0.0001, 0.3], exponents=[1, 1, 1, -1, -1])\n",
    "\n",
    "print(f\"{eqiv:.2f} ± {unc:.3f} J/cal\")\n"
   ]
  }
 ],
 "metadata": {
  "kernelspec": {
   "display_name": "Python 3",
   "language": "python",
   "name": "python3"
  },
  "language_info": {
   "codemirror_mode": {
    "name": "ipython",
    "version": 3
   },
   "file_extension": ".py",
   "mimetype": "text/x-python",
   "name": "python",
   "nbconvert_exporter": "python",
   "pygments_lexer": "ipython3",
   "version": "3.8.3"
  }
 },
 "nbformat": 4,
 "nbformat_minor": 4
}
